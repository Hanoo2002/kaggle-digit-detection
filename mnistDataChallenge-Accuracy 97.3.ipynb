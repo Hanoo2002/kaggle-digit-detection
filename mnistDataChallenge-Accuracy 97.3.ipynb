{
 "cells": [
  {
   "cell_type": "code",
   "execution_count": 1,
   "id": "96d98f49",
   "metadata": {},
   "outputs": [],
   "source": [
    "import pandas as pd\n",
    "import numpy as np\n",
    "import matplotlib.pyplot as plt\n",
    "from keras.preprocessing.image import ImageDataGenerator\n",
    "from sklearn.model_selection import train_test_split\n",
    "from keras.models import Sequential\n",
    "from keras.utils.np_utils import to_categorical\n",
    "from keras.layers import Input,InputLayer, Dense, Activation, BatchNormalization, Flatten, Conv2D\n",
    "from keras.layers import MaxPooling2D, Dropout\n",
    "from keras.models import Sequential\n",
    "import tensorflow as tf"
   ]
  },
  {
   "cell_type": "code",
   "execution_count": 2,
   "id": "80093a7c",
   "metadata": {},
   "outputs": [],
   "source": [
    "train_data = pd.read_csv('train.csv')\n",
    "test_data = pd.read_csv('test.csv')\n",
    "\n"
   ]
  },
  {
   "cell_type": "code",
   "execution_count": 3,
   "id": "b91a6416",
   "metadata": {},
   "outputs": [
    {
     "data": {
      "text/plain": [
       "((42000, 784), (42000,), (28000, 784))"
      ]
     },
     "execution_count": 3,
     "metadata": {},
     "output_type": "execute_result"
    }
   ],
   "source": [
    "y_train = train_data['label'].astype('float32')\n",
    "X_train = train_data.drop(['label'], axis=1).astype('int32')\n",
    "X_predict = test_data.astype('float32')\n",
    "X_train.shape, y_train.shape, X_predict.shape"
   ]
  },
  {
   "cell_type": "code",
   "execution_count": 4,
   "id": "ac7b2ec2",
   "metadata": {},
   "outputs": [
    {
     "data": {
      "text/plain": [
       "((42000, 28, 28, 1), (28000, 28, 28, 1))"
      ]
     },
     "execution_count": 4,
     "metadata": {},
     "output_type": "execute_result"
    }
   ],
   "source": [
    "X_train = X_train/255\n",
    "X_predict = X_predict/255\n",
    "X_train = X_train.values.reshape(-1,28,28,1)\n",
    "X_predict = X_predict.values.reshape(-1,28,28,1)\n",
    "X_train.shape, X_predict.shape"
   ]
  },
  {
   "cell_type": "code",
   "execution_count": 5,
   "id": "50122c12",
   "metadata": {},
   "outputs": [
    {
     "data": {
      "text/plain": [
       "((33600, 28, 28, 1), (8400, 28, 28, 1), (33600,), (8400,))"
      ]
     },
     "execution_count": 5,
     "metadata": {},
     "output_type": "execute_result"
    }
   ],
   "source": [
    "X_train, X_test, y_train, y_test = train_test_split(X_train, y_train, test_size = 0.2, random_state=101)\n",
    "X_train.shape, X_test.shape, y_train.shape, y_test.shape"
   ]
  },
  {
   "cell_type": "code",
   "execution_count": 16,
   "id": "fd3163b8",
   "metadata": {},
   "outputs": [
    {
     "name": "stdout",
     "output_type": "stream",
     "text": [
      "0    1\n",
      "1    0\n",
      "2    1\n",
      "3    4\n",
      "4    0\n",
      "Name: label, dtype: int64\n"
     ]
    },
    {
     "data": {
      "text/plain": [
       "array([[0., 0., 0., 0., 0., 0., 0., 1., 0., 0.],\n",
       "       [0., 0., 0., 0., 0., 0., 0., 1., 0., 0.],\n",
       "       [0., 0., 0., 0., 0., 0., 0., 0., 0., 1.],\n",
       "       [1., 0., 0., 0., 0., 0., 0., 0., 0., 0.],\n",
       "       [0., 1., 0., 0., 0., 0., 0., 0., 0., 0.]], dtype=float32)"
      ]
     },
     "execution_count": 16,
     "metadata": {},
     "output_type": "execute_result"
    }
   ],
   "source": [
    "y_train_cat = to_categorical(y_train, num_classes = 10)\n",
    "print(train_data['label'].head())\n",
    "y_train_cat[0:5,:]"
   ]
  },
  {
   "cell_type": "code",
   "execution_count": 18,
   "id": "18d394e1",
   "metadata": {},
   "outputs": [
    {
     "data": {
      "image/png": "[encoded data removed]",
      "text/plain": [
       "<Figure size 640x480 with 1 Axes>"
      ]
     },
     "metadata": {},
     "output_type": "display_data"
    }
   ],
   "source": [
    "plt.imshow(X_train[1][:,:,0])\n",
    "plt.title(y_train_cat[1].argmax());"
   ]
  },
  {
   "cell_type": "code",
   "execution_count": 7,
   "id": "c261fb26",
   "metadata": {},
   "outputs": [],
   "source": [
    "model = tf.keras.models.Sequential([\n",
    "    tf.keras.layers.Flatten(),\n",
    "    tf.keras.layers.Dense(128, activation='relu'),\n",
    "    tf.keras.layers.Dropout(0.2),\n",
    "    tf.keras.layers.Dense(10,activation='softmax')\n",
    "])"
   ]
  },
  {
   "cell_type": "code",
   "execution_count": 8,
   "id": "402cade1",
   "metadata": {},
   "outputs": [],
   "source": [
    "model.compile(optimizer='adam',\n",
    "             loss=tf.keras.losses.SparseCategoricalCrossentropy(from_logits=False),\n",
    "             metrics=['accuracy'])"
   ]
  },
  {
   "cell_type": "code",
   "execution_count": 9,
   "id": "b94ee5f0",
   "metadata": {},
   "outputs": [
    {
     "name": "stdout",
     "output_type": "stream",
     "text": [
      "Epoch 1/20\n",
      "1050/1050 [==============================] - 2s 1ms/step - loss: 0.3709 - accuracy: 0.8923\n",
      "Epoch 2/20\n",
      "1050/1050 [==============================] - 1s 1ms/step - loss: 0.1790 - accuracy: 0.9477\n",
      "Epoch 3/20\n",
      "1050/1050 [==============================] - 1s 1ms/step - loss: 0.1312 - accuracy: 0.9607\n",
      "Epoch 4/20\n",
      "1050/1050 [==============================] - 1s 1ms/step - loss: 0.1029 - accuracy: 0.9679\n",
      "Epoch 5/20\n",
      "1050/1050 [==============================] - 1s 1ms/step - loss: 0.0855 - accuracy: 0.9734\n",
      "Epoch 6/20\n",
      "1050/1050 [==============================] - 1s 1ms/step - loss: 0.0727 - accuracy: 0.9777\n",
      "Epoch 7/20\n",
      "1050/1050 [==============================] - 1s 1ms/step - loss: 0.0638 - accuracy: 0.9792\n",
      "Epoch 8/20\n",
      "1050/1050 [==============================] - 1s 1ms/step - loss: 0.0536 - accuracy: 0.9829\n",
      "Epoch 9/20\n",
      "1050/1050 [==============================] - 1s 1ms/step - loss: 0.0514 - accuracy: 0.9833\n",
      "Epoch 10/20\n",
      "1050/1050 [==============================] - 1s 1ms/step - loss: 0.0450 - accuracy: 0.9852\n",
      "Epoch 11/20\n",
      "1050/1050 [==============================] - 1s 1ms/step - loss: 0.0407 - accuracy: 0.9865\n",
      "Epoch 12/20\n",
      "1050/1050 [==============================] - 1s 1ms/step - loss: 0.0358 - accuracy: 0.9877\n",
      "Epoch 13/20\n",
      "1050/1050 [==============================] - 1s 1ms/step - loss: 0.0381 - accuracy: 0.9870\n",
      "Epoch 14/20\n",
      "1050/1050 [==============================] - 1s 1ms/step - loss: 0.0341 - accuracy: 0.9884\n",
      "Epoch 15/20\n",
      "1050/1050 [==============================] - 1s 1ms/step - loss: 0.0297 - accuracy: 0.9897\n",
      "Epoch 16/20\n",
      "1050/1050 [==============================] - 1s 1ms/step - loss: 0.0272 - accuracy: 0.9912\n",
      "Epoch 17/20\n",
      "1050/1050 [==============================] - 1s 1ms/step - loss: 0.0258 - accuracy: 0.9913\n",
      "Epoch 18/20\n",
      "1050/1050 [==============================] - 1s 1ms/step - loss: 0.0243 - accuracy: 0.9918\n",
      "Epoch 19/20\n",
      "1050/1050 [==============================] - 1s 1ms/step - loss: 0.0234 - accuracy: 0.9915\n",
      "Epoch 20/20\n",
      "1050/1050 [==============================] - 1s 1ms/step - loss: 0.0228 - accuracy: 0.9925\n"
     ]
    },
    {
     "data": {
      "text/plain": [
       "<keras.callbacks.History at 0x2000fa82cd0>"
      ]
     },
     "execution_count": 9,
     "metadata": {},
     "output_type": "execute_result"
    }
   ],
   "source": [
    "model.fit(X_train, y_train, epochs=20)"
   ]
  },
  {
   "cell_type": "code",
   "execution_count": 10,
   "id": "34fb76b6",
   "metadata": {},
   "outputs": [
    {
     "name": "stdout",
     "output_type": "stream",
     "text": [
      "263/263 [==============================] - 0s 724us/step - loss: 0.0832 - accuracy: 0.9789\n"
     ]
    },
    {
     "data": {
      "text/plain": [
       "[0.08318671584129333, 0.9789285659790039]"
      ]
     },
     "execution_count": 10,
     "metadata": {},
     "output_type": "execute_result"
    }
   ],
   "source": [
    "model.evaluate(X_test,  y_test)"
   ]
  },
  {
   "cell_type": "code",
   "execution_count": 12,
   "id": "e91bac11",
   "metadata": {},
   "outputs": [
    {
     "name": "stdout",
     "output_type": "stream",
     "text": [
      "875/875 [==============================] - 1s 662us/step\n"
     ]
    }
   ],
   "source": [
    "y_predict = model.predict(X_predict)\n",
    "y_predict = np.argmax(y_predict,axis=1)\n",
    "my_submission = pd.DataFrame({'ImageId': list(range(1, len(y_predict)+1)), 'Label': y_predict})\n",
    "my_submission.to_csv('submission.csv', index=False)"
   ]
  },
  {
   "cell_type": "code",
   "execution_count": 22,
   "id": "641a8ef4",
   "metadata": {},
   "outputs": [
    {
     "data": {
      "image/png": "[encoded data removed]",
      "text/plain": [
       "<Figure size 640x480 with 1 Axes>"
      ]
     },
     "metadata": {},
     "output_type": "display_data"
    }
   ],
   "source": [
    "y_pred_cat = to_categorical(y_predict, num_classes = 10)\n",
    "plt.imshow(X_predict[1][:,:,0])\n",
    "plt.title(y_pred_cat[1].argmax());\n"
   ]
  },
  {
   "cell_type": "code",
   "execution_count": 23,
   "id": "da99cb11",
   "metadata": {},
   "outputs": [
    {
     "data": {
      "image/png": "[encoded data removed]",
      "text/plain": [
       "<Figure size 640x480 with 1 Axes>"
      ]
     },
     "metadata": {},
     "output_type": "display_data"
    }
   ],
   "source": [
    "plt.imshow(X_predict[80][:,:,0])\n",
    "plt.title(y_pred_cat[80].argmax());"
   ]
  },
  {
   "cell_type": "code",
   "execution_count": 24,
   "id": "109e03d6",
   "metadata": {},
   "outputs": [
    {
     "data": {
      "image/png": "[encoded data removed]",
      "text/plain": [
       "<Figure size 640x480 with 1 Axes>"
      ]
     },
     "metadata": {},
     "output_type": "display_data"
    }
   ],
   "source": [
    "plt.imshow(X_predict[9][:,:,0])\n",
    "plt.title(y_pred_cat[9].argmax());"
   ]
  },
  {
   "cell_type": "code",
   "execution_count": null,
   "id": "382682f6",
   "metadata": {},
   "outputs": [],
   "source": []
  }
 ],
 "metadata": {
  "kernelspec": {
   "display_name": "Python 3 (ipykernel)",
   "language": "python",
   "name": "python3"
  },
  "language_info": {
   "codemirror_mode": {
    "name": "ipython",
    "version": 3
   },
   "file_extension": ".py",
   "mimetype": "text/x-python",
   "name": "python",
   "nbconvert_exporter": "python",
   "pygments_lexer": "ipython3",
   "version": "3.9.13"
  }
 },
 "nbformat": 4,
 "nbformat_minor": 5
}
